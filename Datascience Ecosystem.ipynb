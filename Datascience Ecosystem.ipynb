{
 "cells": [
  {
   "cell_type": "markdown",
   "id": "21ef3d65-8a89-4398-b2d6-acb8bd94c126",
   "metadata": {},
   "source": [
    "Data science tools and ecosystem"
   ]
  },
  {
   "cell_type": "markdown",
   "id": "eafd3499-edcf-4571-b87d-0e33db407f45",
   "metadata": {},
   "source": [
    "In This notebook, Data science Tools And Ecosystem are summarized"
   ]
  },
  {
   "cell_type": "markdown",
   "id": "056364ea-a7b3-47a6-b153-12ed833aa94a",
   "metadata": {},
   "source": [
    "# some of the popular languages that data scientist use are :"
   ]
  },
  {
   "cell_type": "markdown",
   "id": "a36af725-0c68-47b6-b55f-61af8c1613bc",
   "metadata": {},
   "source": [
    "## Ordered List\n",
    "1.python\n",
    "2.R\n",
    "3.SQL"
   ]
  },
  {
   "cell_type": "markdown",
   "id": "364ca3a3-4cca-4bfd-872e-326e8cf34a7b",
   "metadata": {},
   "source": [
    "# some of the popular data science libraries are :\n",
    "    \n",
    "    "
   ]
  },
  {
   "cell_type": "markdown",
   "id": "2c21896e-8da3-4fbf-9cc8-ba68ec78999f",
   "metadata": {},
   "source": [
    "## Ordered List\n",
    "1.numpy\n",
    "2.pandas\n",
    "3.matplotlib"
   ]
  },
  {
   "cell_type": "markdown",
   "id": "1f66f547-dc5a-47f2-a538-c85eeb93f22b",
   "metadata": {},
   "source": [
    "|data science tools|\n",
    "|------------------|\n",
    "|python|\n",
    "|sql|\n",
    "|IBM Watson|"
   ]
  },
  {
   "cell_type": "markdown",
   "id": "4a8c29d6-4b9c-4bd9-8748-af87d312f43e",
   "metadata": {},
   "source": [
    "Below are few examples of arithmetic operations:\n",
    "    "
   ]
  },
  {
   "cell_type": "code",
   "execution_count": 1,
   "id": "68055208-76aa-49ac-b2aa-6ac5dde40f8c",
   "metadata": {
    "tags": []
   },
   "outputs": [
    {
     "data": {
      "text/plain": [
       "17"
      ]
     },
     "execution_count": 1,
     "metadata": {},
     "output_type": "execute_result"
    }
   ],
   "source": [
    "(3*4)+5\n"
   ]
  },
  {
   "cell_type": "code",
   "execution_count": 6,
   "id": "cacbf0e9-51a2-4518-a756-65e321c0c80c",
   "metadata": {
    "tags": []
   },
   "outputs": [
    {
     "data": {
      "text/plain": [
       "3.3333333333333335"
      ]
     },
     "execution_count": 6,
     "metadata": {},
     "output_type": "execute_result"
    }
   ],
   "source": [
    "200/60"
   ]
  },
  {
   "cell_type": "markdown",
   "id": "16d56235-7f86-49e4-b006-6b8819643cd8",
   "metadata": {
    "tags": []
   },
   "source": [
    "#minutes to hour "
   ]
  },
  {
   "cell_type": "markdown",
   "id": "4881426e-f7d2-40f1-889f-0e32881609b3",
   "metadata": {},
   "source": [
    "# Objective "
   ]
  },
  {
   "cell_type": "markdown",
   "id": "4dabf710-410f-4a54-b4bd-25dac618aa94",
   "metadata": {},
   "source": [
    "## Unordered List\n",
    "1.Learned about various data science languages such as python\n",
    "2.learned about various libraries such as pandas\n",
    "3.learned about github etc"
   ]
  },
  {
   "cell_type": "markdown",
   "id": "8ba32ef5-f4c1-4307-96ef-d5ce9ef848c8",
   "metadata": {},
   "source": [
    "# Author \n",
    "Pavan kumar "
   ]
  },
  {
   "cell_type": "code",
   "execution_count": null,
   "id": "7156ae93-2534-41d8-9070-a6e6823f1f11",
   "metadata": {},
   "outputs": [],
   "source": []
  }
 ],
 "metadata": {
  "kernelspec": {
   "display_name": "Python",
   "language": "python",
   "name": "conda-env-python-py"
  },
  "language_info": {
   "codemirror_mode": {
    "name": "ipython",
    "version": 3
   },
   "file_extension": ".py",
   "mimetype": "text/x-python",
   "name": "python",
   "nbconvert_exporter": "python",
   "pygments_lexer": "ipython3",
   "version": "3.7.12"
  }
 },
 "nbformat": 4,
 "nbformat_minor": 5
}
